{
  "nbformat": 4,
  "nbformat_minor": 0,
  "metadata": {
    "colab": {
      "name": "Hidden Markov Model.ipynb",
      "provenance": [],
      "collapsed_sections": [],
      "authorship_tag": "ABX9TyNoXk+PqKPcK+OOAtUZ61CA",
      "include_colab_link": true
    },
    "kernelspec": {
      "name": "python3",
      "display_name": "Python 3"
    },
    "language_info": {
      "name": "python"
    }
  },
  "cells": [
    {
      "cell_type": "markdown",
      "metadata": {
        "id": "view-in-github",
        "colab_type": "text"
      },
      "source": [
        "<a href=\"https://colab.research.google.com/github/ridersw/Complete-Machine-Learning/blob/main/Hidden_Markov_Model.ipynb\" target=\"_parent\"><img src=\"https://colab.research.google.com/assets/colab-badge.svg\" alt=\"Open In Colab\"/></a>"
      ]
    },
    {
      "cell_type": "code",
      "execution_count": 1,
      "metadata": {
        "id": "NLa-lagjK7PB"
      },
      "outputs": [],
      "source": [
        "%tensorflow_version 2.x\n",
        "\n",
        "import tensorflow_probability as tfp\n",
        "import tensorflow as tf"
      ]
    },
    {
      "cell_type": "code",
      "source": [
        "tfd = tfp.distributions\n",
        "initial_distribution = tfd.Categorical(probs = [0.8,0.2])\n",
        "transition_distribution = tfd.Categorical(probs=[[0.7, 0.3], [0.2, 0.8]])\n",
        "\n",
        "observation_distribution = tfd.Normal(loc=[0., 15.], scale=[5., 10.])"
      ],
      "metadata": {
        "id": "lLOIka86LGhB"
      },
      "execution_count": 3,
      "outputs": []
    },
    {
      "cell_type": "code",
      "source": [
        "#num_steps- how many days we want to predict and run the model\n",
        "model = tfd.HiddenMarkovModel(initial_distribution=initial_distribution,\n",
        "                              transition_distribution=transition_distribution,\n",
        "                              observation_distribution=observation_distribution, \n",
        "                              num_steps = 7)"
      ],
      "metadata": {
        "id": "-HVWg4q8OEul"
      },
      "execution_count": 4,
      "outputs": []
    },
    {
      "cell_type": "code",
      "source": [
        "mean = model.mean()\n",
        "with tf.compat.v1.Session() as sess:\n",
        "  print(mean.numpy())"
      ],
      "metadata": {
        "colab": {
          "base_uri": "https://localhost:8080/"
        },
        "id": "MT5aZ0O-OgmH",
        "outputId": "0060fc1a-2c17-430d-a82f-d82b5f9255ed"
      },
      "execution_count": 7,
      "outputs": [
        {
          "output_type": "stream",
          "name": "stdout",
          "text": [
            "[2.9999998 5.9999995 7.4999995 8.25      8.625001  8.812501  8.90625  ]\n"
          ]
        }
      ]
    }
  ]
}