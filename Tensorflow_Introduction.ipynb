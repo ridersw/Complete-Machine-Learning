{
  "nbformat": 4,
  "nbformat_minor": 0,
  "metadata": {
    "colab": {
      "name": "Tensorflow Introduction.ipynb",
      "provenance": [],
      "collapsed_sections": [],
      "authorship_tag": "ABX9TyN3NVM/GOnrQ/UUzf8QOSIJ",
      "include_colab_link": true
    },
    "kernelspec": {
      "name": "python3",
      "display_name": "Python 3"
    },
    "language_info": {
      "name": "python"
    }
  },
  "cells": [
    {
      "cell_type": "markdown",
      "metadata": {
        "id": "view-in-github",
        "colab_type": "text"
      },
      "source": [
        "<a href=\"https://colab.research.google.com/github/ridersw/Complete-Machine-Learning/blob/main/Tensorflow_Introduction.ipynb\" target=\"_parent\"><img src=\"https://colab.research.google.com/assets/colab-badge.svg\" alt=\"Open In Colab\"/></a>"
      ]
    },
    {
      "cell_type": "code",
      "execution_count": null,
      "metadata": {
        "id": "lBgw4EElSvb-"
      },
      "outputs": [],
      "source": [
        "%tensorflow_version 2.x # specifies the version of Tensorflow\n",
        "\n",
        "import tensorflow as tf\n",
        "print(tf.version)"
      ]
    },
    {
      "cell_type": "markdown",
      "source": [
        "# What are Tensors and how to create tensors?\n",
        "-> Tensors are basically a vectors generalised to the higher dimensions. Vectors are the data points with more than 1 value, multiple dimensions. Like Velocity that has speed and distance.\n",
        "\n",
        "Syntax to create Vector-\n",
        "\n",
        "{variable_name} = tf.Variable({data}, {data_type})"
      ],
      "metadata": {
        "id": "LHCHZRdpn7N_"
      }
    },
    {
      "cell_type": "code",
      "source": [
        "string = tf.Variable(\"Hello\", tf.string)\n",
        "integer = tf.Variable(1234, tf.int32)\n",
        "floating = tf.Variable(1.234, tf.float32)\n",
        "array = tf.Variable(['Hello', 'my'], tf.string)\n",
        "array2d = tf.Variable([['this', 'is'],['kinda', 'new']], tf.string)\n",
        "\n",
        "print(f'string: {string}')\n",
        "print(f'integer: {integer}')\n",
        "print(f'floating: {floating}')\n",
        "print(f'array: {array}')\n",
        "print(f'array2d: {array2d}')"
      ],
      "metadata": {
        "colab": {
          "base_uri": "https://localhost:8080/"
        },
        "id": "4zpidll8n5P_",
        "outputId": "a3eba639-b412-4aad-f8a9-4e27c06ac7f4"
      },
      "execution_count": 7,
      "outputs": [
        {
          "output_type": "stream",
          "name": "stdout",
          "text": [
            "string: <tf.Variable 'Variable:0' shape=() dtype=string, numpy=b'Hello'>\n",
            "integer: <tf.Variable 'Variable:0' shape=() dtype=int32, numpy=1234>\n",
            "floating: <tf.Variable 'Variable:0' shape=() dtype=float32, numpy=1.234>\n",
            "array: <tf.Variable 'Variable:0' shape=(2,) dtype=string, numpy=array([b'Hello', b'my'], dtype=object)>\n",
            "array2d: <tf.Variable 'Variable:0' shape=(2, 2) dtype=string, numpy=\n",
            "array([[b'this', b'is'],\n",
            "       [b'kinda', b'new']], dtype=object)>\n"
          ]
        }
      ]
    },
    {
      "cell_type": "markdown",
      "source": [
        "# What is Rank/ Degree of Tensor?\n",
        "-> It is the dimension of the tensor "
      ],
      "metadata": {
        "id": "_gaJ3ZhssTzZ"
      }
    },
    {
      "cell_type": "code",
      "source": [
        "tf.rank(array2d)"
      ],
      "metadata": {
        "colab": {
          "base_uri": "https://localhost:8080/"
        },
        "id": "phHH0kX-q6kt",
        "outputId": "7b69c608-c3dc-4c2a-eea5-7c771853619e"
      },
      "execution_count": 10,
      "outputs": [
        {
          "output_type": "execute_result",
          "data": {
            "text/plain": [
              "<tf.Tensor: shape=(), dtype=int32, numpy=2>"
            ]
          },
          "metadata": {},
          "execution_count": 10
        }
      ]
    },
    {
      "cell_type": "markdown",
      "source": [
        "# What is Shape of the Tensor?\n",
        "-> It is the count of elements in each dimension"
      ],
      "metadata": {
        "id": "3Fm7GlyTscNe"
      }
    },
    {
      "cell_type": "code",
      "source": [
        "array.shape"
      ],
      "metadata": {
        "colab": {
          "base_uri": "https://localhost:8080/"
        },
        "id": "I1vvKT1_sjh_",
        "outputId": "6762ce9e-d6d8-4b03-f4df-af5ea3fb0748"
      },
      "execution_count": 13,
      "outputs": [
        {
          "output_type": "execute_result",
          "data": {
            "text/plain": [
              "TensorShape([2])"
            ]
          },
          "metadata": {},
          "execution_count": 13
        }
      ]
    },
    {
      "cell_type": "markdown",
      "source": [
        "# Shape of Tensor"
      ],
      "metadata": {
        "id": "VXHmp2RYwXYr"
      }
    },
    {
      "cell_type": "code",
      "source": [
        "array = tf.ones([1,2,3])\n",
        "\n",
        "print(f'array: {array}')\n",
        "\n",
        "#change shape\n",
        "newArray = tf.reshape(array, [2,3,1])\n",
        "\n",
        "print(f'newArray: {newArray}')"
      ],
      "metadata": {
        "colab": {
          "base_uri": "https://localhost:8080/"
        },
        "id": "ElKqWRyawZb3",
        "outputId": "def749a9-db8d-46ca-9ebe-1b215a36b424"
      },
      "execution_count": 16,
      "outputs": [
        {
          "output_type": "stream",
          "name": "stdout",
          "text": [
            "array: [[[1. 1. 1.]\n",
            "  [1. 1. 1.]]]\n",
            "newArray: [[[1.]\n",
            "  [1.]\n",
            "  [1.]]\n",
            "\n",
            " [[1.]\n",
            "  [1.]\n",
            "  [1.]]]\n"
          ]
        }
      ]
    },
    {
      "cell_type": "markdown",
      "source": [
        ""
      ],
      "metadata": {
        "id": "QqlfIH7uwusk"
      }
    },
    {
      "cell_type": "markdown",
      "source": [
        ""
      ],
      "metadata": {
        "id": "traW_cDXn6Al"
      }
    }
  ]
}