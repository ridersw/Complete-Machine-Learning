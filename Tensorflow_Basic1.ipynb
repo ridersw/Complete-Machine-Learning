{
  "nbformat": 4,
  "nbformat_minor": 0,
  "metadata": {
    "colab": {
      "name": "Tensorflow Basic1.ipynb",
      "provenance": [],
      "collapsed_sections": [],
      "authorship_tag": "ABX9TyPBOgXkTdRiqhr1kYHirJUN",
      "include_colab_link": true
    },
    "kernelspec": {
      "name": "python3",
      "display_name": "Python 3"
    },
    "language_info": {
      "name": "python"
    }
  },
  "cells": [
    {
      "cell_type": "markdown",
      "metadata": {
        "id": "view-in-github",
        "colab_type": "text"
      },
      "source": [
        "<a href=\"https://colab.research.google.com/github/ridersw/Complete-Machine-Learning/blob/main/Tensorflow_Basic1.ipynb\" target=\"_parent\"><img src=\"https://colab.research.google.com/assets/colab-badge.svg\" alt=\"Open In Colab\"/></a>"
      ]
    },
    {
      "cell_type": "code",
      "execution_count": null,
      "metadata": {
        "id": "lBgw4EElSvb-"
      },
      "outputs": [],
      "source": [
        "%tensorflow_version 2.x # specifies the version of Tensorflow\n",
        "\n",
        "import tensorflow as tf\n",
        "print(tf.version)"
      ]
    }
  ]
}